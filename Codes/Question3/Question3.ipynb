{
 "cells": [
  {
   "cell_type": "code",
   "execution_count": 4,
   "id": "c920c6b8",
   "metadata": {},
   "outputs": [
    {
     "data": {
      "image/png": "[encoded data removed]",
      "text/plain": [
       "<Figure size 432x288 with 1 Axes>"
      ]
     },
     "metadata": {
      "needs_background": "light"
     },
     "output_type": "display_data"
    }
   ],
   "source": [
    "import pandas as pd\n",
    "import matplotlib.pyplot as plt\n",
    "import random\n",
    "import numpy as np\n",
    "\n",
    "data = pd.read_csv('Question3.csv', header = None)\n",
    "data.columns = ['x1', 'x2', 'T']\n",
    "data['T'] = data['T'].map({0:-1, 1:1})\n",
    "\n",
    "set1 = data[(data['T'] == -1)]\n",
    "x1 = set1.iloc[:]['x1']\n",
    "y1 = set1.iloc[:]['x2']\n",
    "\n",
    "set2 = data[(data['T'] == 1)]\n",
    "x2 = set2.iloc[:]['x1']\n",
    "y2 = set2.iloc[:]['x2']\n",
    "\n",
    "plt.plot(x1, y1, 'r+', label = 'T = -1')\n",
    "plt.plot(x2, y2, 'b+', label = 'T = 1')\n",
    "plt.legend(loc = \"upper right\")\n",
    "plt.xlabel('x1')\n",
    "plt.ylabel('x2')\n",
    "plt.show()\n",
    "\n"
   ]
  },
  {
   "cell_type": "code",
   "execution_count": 5,
   "id": "e2e74f07",
   "metadata": {},
   "outputs": [],
   "source": [
    "L = len(data)\n",
    "X1 = np.zeros(L)\n",
    "X2 = np.zeros(L)\n",
    "Target = np.zeros(L)\n",
    "Point = []\n",
    "for i in range(L):\n",
    "    X1[i] = data.iloc[i]['x1']\n",
    "    X2[i] = data.iloc[i]['x2']\n",
    "    Target[i] = data.iloc[i]['T']\n",
    "    Point.append([X1[i], X2[i], Target[i]])\n",
    "\n"
   ]
  },
  {
   "cell_type": "code",
   "execution_count": 194,
   "id": "865ad566",
   "metadata": {},
   "outputs": [],
   "source": [
    "alpha = 0.03\n",
    "n = 8\n",
    "a = 0.5\n",
    "bias = a\n",
    "V = [a for i in range(n)]\n",
    "\n",
    "b = np.ones(n)\n",
    "W = np.random.rand(n, 2)\n"
   ]
  },
  {
   "cell_type": "code",
   "execution_count": 195,
   "id": "6b279f9d",
   "metadata": {},
   "outputs": [],
   "source": [
    "Znet = np.zeros(n)\n",
    "Z = np.zeros(n)\n",
    "Ynet = 0\n",
    "Y = 0\n",
    "\n",
    "epoch = 6000\n",
    "for i in range(epoch):\n",
    "    c = random.choice(Point)\n",
    "    for j in range(n):\n",
    "        Znet[j] = b[j] + np.dot(c[0:2], W[j])\n",
    "        if (Znet[j] >= 0):\n",
    "            Z[j] = 1\n",
    "        else:\n",
    "            Z[j] = -1\n",
    "    \n",
    "    Ynet = bias + np.dot(V, Z)\n",
    "    if (Ynet >= 0):\n",
    "        Y = 1\n",
    "    else:\n",
    "        Y = -1  \n",
    "    if (Y != c[-1]):\n",
    "        if (c[-1] == 1):\n",
    "            abs_net = list(map(abs, Znet))\n",
    "            k = abs_net.index(min(abs_net))\n",
    "            b[k] = b[k] + alpha*(1 - Znet[k])\n",
    "            W[k] = [W[k][0] + alpha*(1 - Znet[k])*c[0], W[k][1] + alpha*(1 - Znet[k])*c[1]]\n",
    "        else:\n",
    "            for l in range(n):\n",
    "                if (Znet[l] > 0):\n",
    "                    b[l] = b[l] + alpha*(-1 - Znet[l])\n",
    "                    W[l] = [W[l][0] + alpha*(-1 - Znet[l])*c[0], W[l][1] + alpha*(-1 - Znet[l])*c[1]]\n"
   ]
  },
  {
   "cell_type": "code",
   "execution_count": 196,
   "id": "c51ce5b8",
   "metadata": {},
   "outputs": [
    {
     "name": "stdout",
     "output_type": "stream",
     "text": [
      "97.0\n"
     ]
    }
   ],
   "source": [
    "count = 0\n",
    "L = len(data)\n",
    "for i in range(L):\n",
    "    p = Point[i]\n",
    "    for j in range(n):\n",
    "        Znet[j] = b[j] + np.dot(p[0:2], W[j])\n",
    "        if (Znet[j] >= 0):\n",
    "            Z[j] = 1\n",
    "        else:\n",
    "            Z[j] = -1\n",
    "    \n",
    "    Ynet = bias + np.dot(V, Z)\n",
    "    if (Ynet >= 0):\n",
    "        Y = 1\n",
    "    else:\n",
    "        Y = -1\n",
    "    if(Y != p[-1]):\n",
    "        count = count + 1\n",
    "print(((L- count)/L)*100)"
   ]
  },
  {
   "cell_type": "code",
   "execution_count": 197,
   "id": "7e1fae8c",
   "metadata": {},
   "outputs": [
    {
     "data": {
      "image/png": "[encoded data removed]",
      "text/plain": [
       "<Figure size 432x288 with 1 Axes>"
      ]
     },
     "metadata": {
      "needs_background": "light"
     },
     "output_type": "display_data"
    }
   ],
   "source": [
    "Line = [[] for i in range(n)]\n",
    "_x1_ = np.arange(-2, 2, 0.1)\n",
    "for i in range(n):\n",
    "    Line[i] = -(b[i])/(W[i][1])-(W[i][0])/(W[i][1])*_x1_\n",
    "    plt.plot(_x1_, Line[i])\n",
    "\n",
    "plt.plot(x1, y1, 'r+', label = 'T = -1')\n",
    "plt.plot(x2, y2, 'b+', label = 'T = 1')\n",
    "plt.legend(loc = \"upper right\")\n",
    "plt.xlabel('x1')\n",
    "plt.ylabel('x2')\n",
    "plt.show()\n"
   ]
  },
  {
   "cell_type": "markdown",
   "id": "60320427",
   "metadata": {},
   "source": []
  },
  {
   "cell_type": "code",
   "execution_count": null,
   "id": "cb8ecf9e",
   "metadata": {},
   "outputs": [],
   "source": []
  }
 ],
 "metadata": {
  "kernelspec": {
   "display_name": "Python 3 (ipykernel)",
   "language": "python",
   "name": "python3"
  },
  "language_info": {
   "codemirror_mode": {
    "name": "ipython",
    "version": 3
   },
   "file_extension": ".py",
   "mimetype": "text/x-python",
   "name": "python",
   "nbconvert_exporter": "python",
   "pygments_lexer": "ipython3",
   "version": "3.9.7"
  }
 },
 "nbformat": 4,
 "nbformat_minor": 5
}
