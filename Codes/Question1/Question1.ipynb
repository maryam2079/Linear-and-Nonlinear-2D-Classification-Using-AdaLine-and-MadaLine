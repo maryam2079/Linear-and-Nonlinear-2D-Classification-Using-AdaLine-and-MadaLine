{
 "cells": [
  {
   "cell_type": "code",
   "execution_count": 18,
   "id": "93a7c063",
   "metadata": {},
   "outputs": [
    {
     "name": "stdout",
     "output_type": "stream",
     "text": [
      "1 1\n",
      "1 1\n",
      "[1, 1, 0]\n"
     ]
    }
   ],
   "source": [
    "input1 = list(map(int, input().strip().split()))[:2]\n",
    "A1 = input1[0]   \n",
    "A0 = input1[1]\n",
    "input2 = list(map(int, input().strip().split()))[:2]\n",
    "B1 = input2[0]   \n",
    "B0 = input2[1]\n",
    "\n",
    "def AND(a1, a2):\n",
    "    weights = [1 , 1]\n",
    "    T = 2\n",
    "    net = a1*weights[0] + a2*weights[1]\n",
    "    if net >= T:\n",
    "        return 1\n",
    "    else:\n",
    "        return 0\n",
    "    \n",
    "def OR(a1, a2):\n",
    "    weights = [1 , 1]\n",
    "    T = 1\n",
    "    net = a1*weights[0] + a2*weights[1]\n",
    "    if net >= T:\n",
    "        return 1\n",
    "    else:\n",
    "        return 0\n",
    "    \n",
    "def XOR(a1, a2):\n",
    "    weights1 = [-1 , 1]\n",
    "    T = 1\n",
    "    net1 = a1*weights1[0] + a2*weights1[1]\n",
    "    net2 = a2*weights1[0] + a1*weights1[1]\n",
    "    y1 = []\n",
    "    y2 = []\n",
    "    \n",
    "    if net1 >= T:\n",
    "        y1 = 1\n",
    "    else:\n",
    "        y1 = 0\n",
    "    if net2 >= T:\n",
    "        y2 = 1\n",
    "    else:\n",
    "        y2 = 0  \n",
    "    return OR(y1, y2)\n",
    "        \n",
    "\n",
    "\n",
    "S0 = XOR(A0, B0)\n",
    "C1 = AND(A0, B0)\n",
    "S1 = XOR(XOR(C1, A1), B1)\n",
    "S2 = OR(OR(AND(A1, B1), AND(A1, C1)), AND(B1, C1))\n",
    "a = [S2, S1, S0]\n",
    "print(a)"
   ]
  },
  {
   "cell_type": "code",
   "execution_count": null,
   "id": "328013b8",
   "metadata": {},
   "outputs": [],
   "source": []
  },
  {
   "cell_type": "code",
   "execution_count": null,
   "id": "381dcedf",
   "metadata": {},
   "outputs": [],
   "source": []
  },
  {
   "cell_type": "code",
   "execution_count": null,
   "id": "d1aad30d",
   "metadata": {},
   "outputs": [],
   "source": []
  },
  {
   "cell_type": "code",
   "execution_count": null,
   "id": "e24283d9",
   "metadata": {},
   "outputs": [],
   "source": []
  },
  {
   "cell_type": "code",
   "execution_count": null,
   "id": "b0bd9949",
   "metadata": {},
   "outputs": [],
   "source": []
  }
 ],
 "metadata": {
  "kernelspec": {
   "display_name": "Python 3 (ipykernel)",
   "language": "python",
   "name": "python3"
  },
  "language_info": {
   "codemirror_mode": {
    "name": "ipython",
    "version": 3
   },
   "file_extension": ".py",
   "mimetype": "text/x-python",
   "name": "python",
   "nbconvert_exporter": "python",
   "pygments_lexer": "ipython3",
   "version": "3.9.7"
  }
 },
 "nbformat": 4,
 "nbformat_minor": 5
}
